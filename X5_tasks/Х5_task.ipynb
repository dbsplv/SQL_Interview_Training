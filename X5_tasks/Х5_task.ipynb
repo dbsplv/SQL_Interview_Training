{
 "cells": [
  {
   "cell_type": "markdown",
   "id": "9a396bad",
   "metadata": {},
   "source": [
    "# Задачи от Х5 по SQL"
   ]
  },
  {
   "cell_type": "code",
   "execution_count": 1,
   "id": "8b0f469f",
   "metadata": {},
   "outputs": [],
   "source": [
    "import pandas as pd\n",
    "import numpy as np\n",
    "import sqlite3\n",
    "import string\n",
    "con = sqlite3.connect('retail')"
   ]
  },
  {
   "cell_type": "markdown",
   "id": "c5040188",
   "metadata": {},
   "source": [
    "## Задача 1\n",
    "\n",
    "Скрипт, который создает таблицу с визитами клиентов на сайт:   \n",
    "клиент, дата, кол-во сессий и общая длительность сессий за день."
   ]
  },
  {
   "cell_type": "code",
   "execution_count": 2,
   "id": "746383ac",
   "metadata": {},
   "outputs": [],
   "source": [
    "N=100000"
   ]
  },
  {
   "cell_type": "code",
   "execution_count": 3,
   "id": "dd253226",
   "metadata": {},
   "outputs": [],
   "source": [
    "day= np.random.randint(1,29,N)\n",
    "month=np.random.randint(1,13,N)\n",
    "year=[2022 for i in range(N)]"
   ]
  },
  {
   "cell_type": "code",
   "execution_count": 4,
   "id": "cf918a5f",
   "metadata": {},
   "outputs": [
    {
     "data": {
      "text/plain": [
       "'26'"
      ]
     },
     "execution_count": 4,
     "metadata": {},
     "output_type": "execute_result"
    }
   ],
   "source": [
    "str(day[0])"
   ]
  },
  {
   "cell_type": "code",
   "execution_count": 5,
   "id": "e4ab7900",
   "metadata": {
    "scrolled": true
   },
   "outputs": [],
   "source": [
    "\n",
    "client_id = np.random.randint(1,2000, N)\n",
    "date = [str(year[i])+'-'+str(month[i])+'-'+str(day[i]) for i in range(N)]\n",
    "session_count = np.random.randint(1,60, N)\n",
    "session_time=[session_count[i] * np.random.randint(1,60) for i in range(N)]"
   ]
  },
  {
   "cell_type": "code",
   "execution_count": 6,
   "id": "8bfc74b6",
   "metadata": {},
   "outputs": [],
   "source": [
    "data=pd.DataFrame({'client_id': client_id , \n",
    "                  'date': date,\n",
    "                   'session_count': session_count,\n",
    "                   'session_time' : session_time\n",
    "                  })"
   ]
  },
  {
   "cell_type": "code",
   "execution_count": 7,
   "id": "7d5d32bc",
   "metadata": {},
   "outputs": [
    {
     "data": {
      "text/html": [
       "<div>\n",
       "<style scoped>\n",
       "    .dataframe tbody tr th:only-of-type {\n",
       "        vertical-align: middle;\n",
       "    }\n",
       "\n",
       "    .dataframe tbody tr th {\n",
       "        vertical-align: top;\n",
       "    }\n",
       "\n",
       "    .dataframe thead th {\n",
       "        text-align: right;\n",
       "    }\n",
       "</style>\n",
       "<table border=\"1\" class=\"dataframe\">\n",
       "  <thead>\n",
       "    <tr style=\"text-align: right;\">\n",
       "      <th></th>\n",
       "      <th>client_id</th>\n",
       "      <th>date</th>\n",
       "      <th>session_count</th>\n",
       "      <th>session_time</th>\n",
       "    </tr>\n",
       "  </thead>\n",
       "  <tbody>\n",
       "    <tr>\n",
       "      <th>0</th>\n",
       "      <td>926</td>\n",
       "      <td>2022-7-26</td>\n",
       "      <td>23</td>\n",
       "      <td>644</td>\n",
       "    </tr>\n",
       "    <tr>\n",
       "      <th>1</th>\n",
       "      <td>1107</td>\n",
       "      <td>2022-12-14</td>\n",
       "      <td>30</td>\n",
       "      <td>450</td>\n",
       "    </tr>\n",
       "    <tr>\n",
       "      <th>2</th>\n",
       "      <td>885</td>\n",
       "      <td>2022-2-11</td>\n",
       "      <td>48</td>\n",
       "      <td>1296</td>\n",
       "    </tr>\n",
       "    <tr>\n",
       "      <th>3</th>\n",
       "      <td>276</td>\n",
       "      <td>2022-11-19</td>\n",
       "      <td>6</td>\n",
       "      <td>348</td>\n",
       "    </tr>\n",
       "    <tr>\n",
       "      <th>4</th>\n",
       "      <td>530</td>\n",
       "      <td>2022-8-14</td>\n",
       "      <td>12</td>\n",
       "      <td>120</td>\n",
       "    </tr>\n",
       "  </tbody>\n",
       "</table>\n",
       "</div>"
      ],
      "text/plain": [
       "   client_id        date  session_count  session_time\n",
       "0        926   2022-7-26             23           644\n",
       "1       1107  2022-12-14             30           450\n",
       "2        885   2022-2-11             48          1296\n",
       "3        276  2022-11-19              6           348\n",
       "4        530   2022-8-14             12           120"
      ]
     },
     "execution_count": 7,
     "metadata": {},
     "output_type": "execute_result"
    }
   ],
   "source": [
    "data.head()"
   ]
  },
  {
   "cell_type": "code",
   "execution_count": 8,
   "id": "9db08ff3",
   "metadata": {},
   "outputs": [],
   "source": [
    "data.date = data.date.astype('datetime64')"
   ]
  },
  {
   "cell_type": "code",
   "execution_count": 9,
   "id": "5a83a48f",
   "metadata": {},
   "outputs": [
    {
     "data": {
      "text/plain": [
       "client_id                 int32\n",
       "date             datetime64[ns]\n",
       "session_count             int32\n",
       "session_time              int32\n",
       "dtype: object"
      ]
     },
     "execution_count": 9,
     "metadata": {},
     "output_type": "execute_result"
    }
   ],
   "source": [
    "data.dtypes"
   ]
  },
  {
   "cell_type": "code",
   "execution_count": 10,
   "id": "52a6c7ad",
   "metadata": {},
   "outputs": [],
   "source": [
    "\n",
    "\n",
    "data.to_sql('data',con, index=False, if_exists='replace')"
   ]
  },
  {
   "cell_type": "markdown",
   "id": "96995ed4",
   "metadata": {},
   "source": [
    "## Задача 2 \n",
    "\n",
    "За каждый день выведите DAU и % изменения относительно предыдущего дня   \n",
    "(день, DAU, % изменения).   \n",
    "В результате:   \n",
    "Колонка с датой (от меньшего к большему), DAU, Prev_Change - % изменения DAU относительно предыдущего дня"
   ]
  },
  {
   "cell_type": "code",
   "execution_count": 11,
   "id": "c6e9e2f6",
   "metadata": {},
   "outputs": [],
   "source": [
    "sql1='''\n",
    "SELECT\n",
    "    *\n",
    "FROM\n",
    "    data\n",
    "'''"
   ]
  },
  {
   "cell_type": "code",
   "execution_count": 12,
   "id": "7f859516",
   "metadata": {},
   "outputs": [],
   "source": [
    "sel1= pd.read_sql(sql1,con)"
   ]
  },
  {
   "cell_type": "code",
   "execution_count": 13,
   "id": "1c655ee2",
   "metadata": {},
   "outputs": [
    {
     "data": {
      "text/html": [
       "<div>\n",
       "<style scoped>\n",
       "    .dataframe tbody tr th:only-of-type {\n",
       "        vertical-align: middle;\n",
       "    }\n",
       "\n",
       "    .dataframe tbody tr th {\n",
       "        vertical-align: top;\n",
       "    }\n",
       "\n",
       "    .dataframe thead th {\n",
       "        text-align: right;\n",
       "    }\n",
       "</style>\n",
       "<table border=\"1\" class=\"dataframe\">\n",
       "  <thead>\n",
       "    <tr style=\"text-align: right;\">\n",
       "      <th></th>\n",
       "      <th>client_id</th>\n",
       "      <th>date</th>\n",
       "      <th>session_count</th>\n",
       "      <th>session_time</th>\n",
       "    </tr>\n",
       "  </thead>\n",
       "  <tbody>\n",
       "    <tr>\n",
       "      <th>0</th>\n",
       "      <td>926</td>\n",
       "      <td>2022-07-26 00:00:00</td>\n",
       "      <td>23</td>\n",
       "      <td>644</td>\n",
       "    </tr>\n",
       "    <tr>\n",
       "      <th>1</th>\n",
       "      <td>1107</td>\n",
       "      <td>2022-12-14 00:00:00</td>\n",
       "      <td>30</td>\n",
       "      <td>450</td>\n",
       "    </tr>\n",
       "    <tr>\n",
       "      <th>2</th>\n",
       "      <td>885</td>\n",
       "      <td>2022-02-11 00:00:00</td>\n",
       "      <td>48</td>\n",
       "      <td>1296</td>\n",
       "    </tr>\n",
       "    <tr>\n",
       "      <th>3</th>\n",
       "      <td>276</td>\n",
       "      <td>2022-11-19 00:00:00</td>\n",
       "      <td>6</td>\n",
       "      <td>348</td>\n",
       "    </tr>\n",
       "    <tr>\n",
       "      <th>4</th>\n",
       "      <td>530</td>\n",
       "      <td>2022-08-14 00:00:00</td>\n",
       "      <td>12</td>\n",
       "      <td>120</td>\n",
       "    </tr>\n",
       "  </tbody>\n",
       "</table>\n",
       "</div>"
      ],
      "text/plain": [
       "   client_id                 date  session_count  session_time\n",
       "0        926  2022-07-26 00:00:00             23           644\n",
       "1       1107  2022-12-14 00:00:00             30           450\n",
       "2        885  2022-02-11 00:00:00             48          1296\n",
       "3        276  2022-11-19 00:00:00              6           348\n",
       "4        530  2022-08-14 00:00:00             12           120"
      ]
     },
     "execution_count": 13,
     "metadata": {},
     "output_type": "execute_result"
    }
   ],
   "source": [
    "sel1.head()"
   ]
  },
  {
   "cell_type": "code",
   "execution_count": 14,
   "id": "18613c03",
   "metadata": {},
   "outputs": [],
   "source": [
    "sql2= '''\n",
    "select \n",
    "    date,\n",
    "    DAU,\n",
    "    100 * ( cast(DAU as float ) /cast( PreviousDayDAU as float )  - 1) as prev_change\n",
    "from (\n",
    "        select \n",
    "            date,\n",
    "            count(distinct client_id) as DAU,\n",
    "            LAG ( count(distinct client_id), 1, 0 ) OVER ( \n",
    "                ORDER BY date \n",
    "                )      as PreviousDayDAU\n",
    "        From\n",
    "            data\n",
    "\n",
    "\n",
    "        Group by\n",
    "            date\n",
    "\n",
    "        ORDER BY date\n",
    ") as sq    \n",
    "    \n",
    "\n",
    "    \n",
    "\n",
    "\n",
    "'''"
   ]
  },
  {
   "cell_type": "code",
   "execution_count": 15,
   "id": "73c1e14c",
   "metadata": {},
   "outputs": [
    {
     "data": {
      "text/html": [
       "<div>\n",
       "<style scoped>\n",
       "    .dataframe tbody tr th:only-of-type {\n",
       "        vertical-align: middle;\n",
       "    }\n",
       "\n",
       "    .dataframe tbody tr th {\n",
       "        vertical-align: top;\n",
       "    }\n",
       "\n",
       "    .dataframe thead th {\n",
       "        text-align: right;\n",
       "    }\n",
       "</style>\n",
       "<table border=\"1\" class=\"dataframe\">\n",
       "  <thead>\n",
       "    <tr style=\"text-align: right;\">\n",
       "      <th></th>\n",
       "      <th>date</th>\n",
       "      <th>DAU</th>\n",
       "      <th>prev_change</th>\n",
       "    </tr>\n",
       "  </thead>\n",
       "  <tbody>\n",
       "    <tr>\n",
       "      <th>0</th>\n",
       "      <td>2022-01-01 00:00:00</td>\n",
       "      <td>268</td>\n",
       "      <td>NaN</td>\n",
       "    </tr>\n",
       "    <tr>\n",
       "      <th>1</th>\n",
       "      <td>2022-01-02 00:00:00</td>\n",
       "      <td>256</td>\n",
       "      <td>-4.477612</td>\n",
       "    </tr>\n",
       "    <tr>\n",
       "      <th>2</th>\n",
       "      <td>2022-01-03 00:00:00</td>\n",
       "      <td>268</td>\n",
       "      <td>4.687500</td>\n",
       "    </tr>\n",
       "    <tr>\n",
       "      <th>3</th>\n",
       "      <td>2022-01-04 00:00:00</td>\n",
       "      <td>252</td>\n",
       "      <td>-5.970149</td>\n",
       "    </tr>\n",
       "    <tr>\n",
       "      <th>4</th>\n",
       "      <td>2022-01-05 00:00:00</td>\n",
       "      <td>245</td>\n",
       "      <td>-2.777778</td>\n",
       "    </tr>\n",
       "    <tr>\n",
       "      <th>5</th>\n",
       "      <td>2022-01-06 00:00:00</td>\n",
       "      <td>277</td>\n",
       "      <td>13.061224</td>\n",
       "    </tr>\n",
       "    <tr>\n",
       "      <th>6</th>\n",
       "      <td>2022-01-07 00:00:00</td>\n",
       "      <td>261</td>\n",
       "      <td>-5.776173</td>\n",
       "    </tr>\n",
       "    <tr>\n",
       "      <th>7</th>\n",
       "      <td>2022-01-08 00:00:00</td>\n",
       "      <td>259</td>\n",
       "      <td>-0.766284</td>\n",
       "    </tr>\n",
       "    <tr>\n",
       "      <th>8</th>\n",
       "      <td>2022-01-09 00:00:00</td>\n",
       "      <td>290</td>\n",
       "      <td>11.969112</td>\n",
       "    </tr>\n",
       "    <tr>\n",
       "      <th>9</th>\n",
       "      <td>2022-01-10 00:00:00</td>\n",
       "      <td>283</td>\n",
       "      <td>-2.413793</td>\n",
       "    </tr>\n",
       "  </tbody>\n",
       "</table>\n",
       "</div>"
      ],
      "text/plain": [
       "                  date  DAU  prev_change\n",
       "0  2022-01-01 00:00:00  268          NaN\n",
       "1  2022-01-02 00:00:00  256    -4.477612\n",
       "2  2022-01-03 00:00:00  268     4.687500\n",
       "3  2022-01-04 00:00:00  252    -5.970149\n",
       "4  2022-01-05 00:00:00  245    -2.777778\n",
       "5  2022-01-06 00:00:00  277    13.061224\n",
       "6  2022-01-07 00:00:00  261    -5.776173\n",
       "7  2022-01-08 00:00:00  259    -0.766284\n",
       "8  2022-01-09 00:00:00  290    11.969112\n",
       "9  2022-01-10 00:00:00  283    -2.413793"
      ]
     },
     "execution_count": 15,
     "metadata": {},
     "output_type": "execute_result"
    }
   ],
   "source": [
    "sel2= pd.read_sql(sql2,con)\n",
    "sel2.head(10)"
   ]
  },
  {
   "cell_type": "markdown",
   "id": "8c3afa13",
   "metadata": {},
   "source": [
    "## Задание 3\n",
    "\n",
    "Выведите визиты ТОП10 клиентов по их времяпрепровождению на сайте   \n",
    "за весь период"
   ]
  },
  {
   "cell_type": "code",
   "execution_count": 16,
   "id": "9bc8c129",
   "metadata": {},
   "outputs": [],
   "source": [
    "sql3='''\n",
    "select \n",
    "    client_id,\n",
    "    sum(session_time) as client_total_time\n",
    "\n",
    "from \n",
    "    data\n",
    "\n",
    "\n",
    "group by \n",
    "    client_id\n",
    "\n",
    "order by\n",
    "    client_total_time desc\n",
    "\n",
    "limit 10\n",
    "\n",
    "'''"
   ]
  },
  {
   "cell_type": "code",
   "execution_count": 17,
   "id": "4edf40b9",
   "metadata": {},
   "outputs": [
    {
     "data": {
      "text/html": [
       "<div>\n",
       "<style scoped>\n",
       "    .dataframe tbody tr th:only-of-type {\n",
       "        vertical-align: middle;\n",
       "    }\n",
       "\n",
       "    .dataframe tbody tr th {\n",
       "        vertical-align: top;\n",
       "    }\n",
       "\n",
       "    .dataframe thead th {\n",
       "        text-align: right;\n",
       "    }\n",
       "</style>\n",
       "<table border=\"1\" class=\"dataframe\">\n",
       "  <thead>\n",
       "    <tr style=\"text-align: right;\">\n",
       "      <th></th>\n",
       "      <th>client_id</th>\n",
       "      <th>client_total_time</th>\n",
       "    </tr>\n",
       "  </thead>\n",
       "  <tbody>\n",
       "    <tr>\n",
       "      <th>0</th>\n",
       "      <td>1533</td>\n",
       "      <td>81677</td>\n",
       "    </tr>\n",
       "    <tr>\n",
       "      <th>1</th>\n",
       "      <td>499</td>\n",
       "      <td>76788</td>\n",
       "    </tr>\n",
       "    <tr>\n",
       "      <th>2</th>\n",
       "      <td>1474</td>\n",
       "      <td>74790</td>\n",
       "    </tr>\n",
       "    <tr>\n",
       "      <th>3</th>\n",
       "      <td>1084</td>\n",
       "      <td>72094</td>\n",
       "    </tr>\n",
       "    <tr>\n",
       "      <th>4</th>\n",
       "      <td>1357</td>\n",
       "      <td>70702</td>\n",
       "    </tr>\n",
       "    <tr>\n",
       "      <th>5</th>\n",
       "      <td>340</td>\n",
       "      <td>69814</td>\n",
       "    </tr>\n",
       "    <tr>\n",
       "      <th>6</th>\n",
       "      <td>609</td>\n",
       "      <td>69526</td>\n",
       "    </tr>\n",
       "    <tr>\n",
       "      <th>7</th>\n",
       "      <td>1968</td>\n",
       "      <td>69500</td>\n",
       "    </tr>\n",
       "    <tr>\n",
       "      <th>8</th>\n",
       "      <td>1196</td>\n",
       "      <td>69190</td>\n",
       "    </tr>\n",
       "    <tr>\n",
       "      <th>9</th>\n",
       "      <td>1185</td>\n",
       "      <td>69102</td>\n",
       "    </tr>\n",
       "  </tbody>\n",
       "</table>\n",
       "</div>"
      ],
      "text/plain": [
       "   client_id  client_total_time\n",
       "0       1533              81677\n",
       "1        499              76788\n",
       "2       1474              74790\n",
       "3       1084              72094\n",
       "4       1357              70702\n",
       "5        340              69814\n",
       "6        609              69526\n",
       "7       1968              69500\n",
       "8       1196              69190\n",
       "9       1185              69102"
      ]
     },
     "execution_count": 17,
     "metadata": {},
     "output_type": "execute_result"
    }
   ],
   "source": [
    "sel3= pd.read_sql(sql3,con)\n",
    "sel3.head(10)"
   ]
  },
  {
   "cell_type": "code",
   "execution_count": null,
   "id": "4c94dadc",
   "metadata": {},
   "outputs": [],
   "source": []
  },
  {
   "cell_type": "code",
   "execution_count": null,
   "id": "afd2b94c",
   "metadata": {},
   "outputs": [],
   "source": []
  }
 ],
 "metadata": {
  "kernelspec": {
   "display_name": "Python 3 (ipykernel)",
   "language": "python",
   "name": "python3"
  },
  "language_info": {
   "codemirror_mode": {
    "name": "ipython",
    "version": 3
   },
   "file_extension": ".py",
   "mimetype": "text/x-python",
   "name": "python",
   "nbconvert_exporter": "python",
   "pygments_lexer": "ipython3",
   "version": "3.9.7"
  }
 },
 "nbformat": 4,
 "nbformat_minor": 5
}
